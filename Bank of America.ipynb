{
 "cells": [
  {
   "cell_type": "markdown",
   "id": "19c80118",
   "metadata": {},
   "source": [
    "# ANALISIS DE BANK OF AMERICA"
   ]
  },
  {
   "cell_type": "markdown",
   "id": "cbffe3d5",
   "metadata": {},
   "source": [
    "## Este notebook  repasara los conceptos básicos sobre Python con enfoque en finanzas"
   ]
  },
  {
   "cell_type": "markdown",
   "id": "4128956f",
   "metadata": {},
   "source": [
    "Utilizare la API de Yahoo Finance para la extraccion de datos\n",
    "\n",
    "**Rigoberto Añez-Octubre 2023**"
   ]
  },
  {
   "cell_type": "markdown",
   "id": "57453749",
   "metadata": {},
   "source": [
    "Importamos las librerias"
   ]
  },
  {
   "cell_type": "code",
   "execution_count": 5,
   "id": "7b1eabdb",
   "metadata": {
    "scrolled": false
   },
   "outputs": [],
   "source": [
    "import pandas as pd\n",
    "import numpy as np\n",
    "import matplotlib.pyplot as plt\n",
    "import yfinance as yf"
   ]
  },
  {
   "cell_type": "code",
   "execution_count": 12,
   "id": "5ebcc67d",
   "metadata": {},
   "outputs": [],
   "source": [
    "# Definimos el simbolo o los simbolos segun corresponda para cada activo a evaluar\n",
    "tickers = 'BAC'"
   ]
  },
  {
   "cell_type": "markdown",
   "id": "4633d074",
   "metadata": {},
   "source": [
    "**1.- Establecemos el periodo a evaluar y creamos un df con Datos tabulares bidimensionales, de tamaño variable y potencialmente heterogéneos**\n",
    "\n",
    "**2.- Dejo el enlace a la libreria por si sientes curiosidad por explorarla https://pandas.pydata.org/docs/reference/api/pandas.DataFrame.html**"
   ]
  },
  {
   "cell_type": "code",
   "execution_count": 43,
   "id": "ce0e8d8b",
   "metadata": {
    "scrolled": true
   },
   "outputs": [
    {
     "name": "stdout",
     "output_type": "stream",
     "text": [
      "[*********************100%%**********************]  1 of 1 completed\n"
     ]
    }
   ],
   "source": [
    "df_valuation = yf.download(ticker, start=\"2019-12-31\", end='2023-10-14')"
   ]
  },
  {
   "cell_type": "markdown",
   "id": "ec5c3945",
   "metadata": {},
   "source": [
    "**Utilizamos la funcion info para tener una primera aproximacion del dataframe**"
   ]
  },
  {
   "cell_type": "code",
   "execution_count": 44,
   "id": "15e55424",
   "metadata": {
    "scrolled": false
   },
   "outputs": [
    {
     "name": "stdout",
     "output_type": "stream",
     "text": [
      "<class 'pandas.core.frame.DataFrame'>\n",
      "DatetimeIndex: 954 entries, 2019-12-31 to 2023-10-13\n",
      "Data columns (total 6 columns):\n",
      " #   Column     Non-Null Count  Dtype  \n",
      "---  ------     --------------  -----  \n",
      " 0   Open       954 non-null    float64\n",
      " 1   High       954 non-null    float64\n",
      " 2   Low        954 non-null    float64\n",
      " 3   Close      954 non-null    float64\n",
      " 4   Adj Close  954 non-null    float64\n",
      " 5   Volume     954 non-null    int64  \n",
      "dtypes: float64(5), int64(1)\n",
      "memory usage: 52.2 KB\n"
     ]
    }
   ],
   "source": [
    "df_valuation.info()"
   ]
  },
  {
   "cell_type": "markdown",
   "id": "82f387fe",
   "metadata": {},
   "source": [
    "**Utilizamos la funcion head para ver las primeras 5 lineas del dateframe, por defecto nos saca las primeras 5 lineas, con esto confirmamos que nos ha sacado la informacion desde donde la indicamos**"
   ]
  },
  {
   "cell_type": "code",
   "execution_count": 45,
   "id": "92c671e0",
   "metadata": {
    "scrolled": false
   },
   "outputs": [
    {
     "data": {
      "text/html": [
       "<div>\n",
       "<style scoped>\n",
       "    .dataframe tbody tr th:only-of-type {\n",
       "        vertical-align: middle;\n",
       "    }\n",
       "\n",
       "    .dataframe tbody tr th {\n",
       "        vertical-align: top;\n",
       "    }\n",
       "\n",
       "    .dataframe thead th {\n",
       "        text-align: right;\n",
       "    }\n",
       "</style>\n",
       "<table border=\"1\" class=\"dataframe\">\n",
       "  <thead>\n",
       "    <tr style=\"text-align: right;\">\n",
       "      <th></th>\n",
       "      <th>Open</th>\n",
       "      <th>High</th>\n",
       "      <th>Low</th>\n",
       "      <th>Close</th>\n",
       "      <th>Adj Close</th>\n",
       "      <th>Volume</th>\n",
       "    </tr>\n",
       "    <tr>\n",
       "      <th>Date</th>\n",
       "      <th></th>\n",
       "      <th></th>\n",
       "      <th></th>\n",
       "      <th></th>\n",
       "      <th></th>\n",
       "      <th></th>\n",
       "    </tr>\n",
       "  </thead>\n",
       "  <tbody>\n",
       "    <tr>\n",
       "      <th>2019-12-31</th>\n",
       "      <td>35.029999</td>\n",
       "      <td>35.259998</td>\n",
       "      <td>34.970001</td>\n",
       "      <td>35.220001</td>\n",
       "      <td>32.148045</td>\n",
       "      <td>29630100</td>\n",
       "    </tr>\n",
       "    <tr>\n",
       "      <th>2020-01-02</th>\n",
       "      <td>35.349998</td>\n",
       "      <td>35.660000</td>\n",
       "      <td>35.290001</td>\n",
       "      <td>35.639999</td>\n",
       "      <td>32.531406</td>\n",
       "      <td>37614200</td>\n",
       "    </tr>\n",
       "    <tr>\n",
       "      <th>2020-01-03</th>\n",
       "      <td>34.980000</td>\n",
       "      <td>35.150002</td>\n",
       "      <td>34.759998</td>\n",
       "      <td>34.900002</td>\n",
       "      <td>31.855951</td>\n",
       "      <td>50357900</td>\n",
       "    </tr>\n",
       "    <tr>\n",
       "      <th>2020-01-06</th>\n",
       "      <td>34.410000</td>\n",
       "      <td>34.900002</td>\n",
       "      <td>34.369999</td>\n",
       "      <td>34.849998</td>\n",
       "      <td>31.810307</td>\n",
       "      <td>42185000</td>\n",
       "    </tr>\n",
       "    <tr>\n",
       "      <th>2020-01-07</th>\n",
       "      <td>34.700001</td>\n",
       "      <td>34.919998</td>\n",
       "      <td>34.529999</td>\n",
       "      <td>34.619999</td>\n",
       "      <td>31.600378</td>\n",
       "      <td>34149000</td>\n",
       "    </tr>\n",
       "  </tbody>\n",
       "</table>\n",
       "</div>"
      ],
      "text/plain": [
       "                 Open       High        Low      Close  Adj Close    Volume\n",
       "Date                                                                       \n",
       "2019-12-31  35.029999  35.259998  34.970001  35.220001  32.148045  29630100\n",
       "2020-01-02  35.349998  35.660000  35.290001  35.639999  32.531406  37614200\n",
       "2020-01-03  34.980000  35.150002  34.759998  34.900002  31.855951  50357900\n",
       "2020-01-06  34.410000  34.900002  34.369999  34.849998  31.810307  42185000\n",
       "2020-01-07  34.700001  34.919998  34.529999  34.619999  31.600378  34149000"
      ]
     },
     "execution_count": 45,
     "metadata": {},
     "output_type": "execute_result"
    }
   ],
   "source": [
    "df_valuation.head()"
   ]
  },
  {
   "cell_type": "markdown",
   "id": "2ef8aca9",
   "metadata": {},
   "source": [
    "**Utilizamos la funcion tail para ver las ultimas 5 lineas del dateframe, por defecto nos saca las ultimas 5 lineas, con esto confirmamos que nos ha sacado la informacion hasta donde le hemos solicitamos**"
   ]
  },
  {
   "cell_type": "code",
   "execution_count": 46,
   "id": "a97df71e",
   "metadata": {
    "scrolled": true
   },
   "outputs": [
    {
     "data": {
      "text/html": [
       "<div>\n",
       "<style scoped>\n",
       "    .dataframe tbody tr th:only-of-type {\n",
       "        vertical-align: middle;\n",
       "    }\n",
       "\n",
       "    .dataframe tbody tr th {\n",
       "        vertical-align: top;\n",
       "    }\n",
       "\n",
       "    .dataframe thead th {\n",
       "        text-align: right;\n",
       "    }\n",
       "</style>\n",
       "<table border=\"1\" class=\"dataframe\">\n",
       "  <thead>\n",
       "    <tr style=\"text-align: right;\">\n",
       "      <th></th>\n",
       "      <th>Open</th>\n",
       "      <th>High</th>\n",
       "      <th>Low</th>\n",
       "      <th>Close</th>\n",
       "      <th>Adj Close</th>\n",
       "      <th>Volume</th>\n",
       "    </tr>\n",
       "    <tr>\n",
       "      <th>Date</th>\n",
       "      <th></th>\n",
       "      <th></th>\n",
       "      <th></th>\n",
       "      <th></th>\n",
       "      <th></th>\n",
       "      <th></th>\n",
       "    </tr>\n",
       "  </thead>\n",
       "  <tbody>\n",
       "    <tr>\n",
       "      <th>2023-10-09</th>\n",
       "      <td>25.760000</td>\n",
       "      <td>26.360001</td>\n",
       "      <td>25.719999</td>\n",
       "      <td>26.309999</td>\n",
       "      <td>26.309999</td>\n",
       "      <td>39953700</td>\n",
       "    </tr>\n",
       "    <tr>\n",
       "      <th>2023-10-10</th>\n",
       "      <td>26.610001</td>\n",
       "      <td>27.299999</td>\n",
       "      <td>26.570000</td>\n",
       "      <td>27.010000</td>\n",
       "      <td>27.010000</td>\n",
       "      <td>51960100</td>\n",
       "    </tr>\n",
       "    <tr>\n",
       "      <th>2023-10-11</th>\n",
       "      <td>27.170000</td>\n",
       "      <td>27.440001</td>\n",
       "      <td>26.900000</td>\n",
       "      <td>27.020000</td>\n",
       "      <td>27.020000</td>\n",
       "      <td>38508200</td>\n",
       "    </tr>\n",
       "    <tr>\n",
       "      <th>2023-10-12</th>\n",
       "      <td>26.969999</td>\n",
       "      <td>27.080000</td>\n",
       "      <td>26.610001</td>\n",
       "      <td>26.900000</td>\n",
       "      <td>26.900000</td>\n",
       "      <td>44249800</td>\n",
       "    </tr>\n",
       "    <tr>\n",
       "      <th>2023-10-13</th>\n",
       "      <td>27.430000</td>\n",
       "      <td>27.719999</td>\n",
       "      <td>26.520000</td>\n",
       "      <td>26.760000</td>\n",
       "      <td>26.760000</td>\n",
       "      <td>55089700</td>\n",
       "    </tr>\n",
       "  </tbody>\n",
       "</table>\n",
       "</div>"
      ],
      "text/plain": [
       "                 Open       High        Low      Close  Adj Close    Volume\n",
       "Date                                                                       \n",
       "2023-10-09  25.760000  26.360001  25.719999  26.309999  26.309999  39953700\n",
       "2023-10-10  26.610001  27.299999  26.570000  27.010000  27.010000  51960100\n",
       "2023-10-11  27.170000  27.440001  26.900000  27.020000  27.020000  38508200\n",
       "2023-10-12  26.969999  27.080000  26.610001  26.900000  26.900000  44249800\n",
       "2023-10-13  27.430000  27.719999  26.520000  26.760000  26.760000  55089700"
      ]
     },
     "execution_count": 46,
     "metadata": {},
     "output_type": "execute_result"
    }
   ],
   "source": [
    "df_valuation.tail()"
   ]
  },
  {
   "cell_type": "markdown",
   "id": "9113d7f3",
   "metadata": {},
   "source": [
    "**Con la funcion shape revisamos la forma que tiene el df**"
   ]
  },
  {
   "cell_type": "code",
   "execution_count": 49,
   "id": "c0e634f7",
   "metadata": {
    "scrolled": false
   },
   "outputs": [
    {
     "data": {
      "text/plain": [
       "(954, 6)"
      ]
     },
     "execution_count": 49,
     "metadata": {},
     "output_type": "execute_result"
    }
   ],
   "source": [
    "df_valuation.shape"
   ]
  },
  {
   "cell_type": "markdown",
   "id": "c15c6fa6",
   "metadata": {},
   "source": [
    "**Utilizamos la funcion index para revisar exactamente como esta compuesto el indice del df**"
   ]
  },
  {
   "cell_type": "code",
   "execution_count": 27,
   "id": "1e4707fe",
   "metadata": {},
   "outputs": [
    {
     "data": {
      "text/plain": [
       "DatetimeIndex(['2019-12-31', '2020-01-02', '2020-01-03', '2020-01-06',\n",
       "               '2020-01-07', '2020-01-08', '2020-01-09', '2020-01-10',\n",
       "               '2020-01-13', '2020-01-14',\n",
       "               ...\n",
       "               '2023-10-02', '2023-10-03', '2023-10-04', '2023-10-05',\n",
       "               '2023-10-06', '2023-10-09', '2023-10-10', '2023-10-11',\n",
       "               '2023-10-12', '2023-10-13'],\n",
       "              dtype='datetime64[ns]', name='Date', length=954, freq=None)"
      ]
     },
     "execution_count": 27,
     "metadata": {},
     "output_type": "execute_result"
    }
   ],
   "source": [
    "df_valuation.index"
   ]
  },
  {
   "cell_type": "markdown",
   "id": "64b89544",
   "metadata": {},
   "source": [
    "**Confirmamos que nuestros datos comienzan en la fecha que le hemos indicado**"
   ]
  },
  {
   "cell_type": "code",
   "execution_count": 50,
   "id": "46a64cc2",
   "metadata": {
    "scrolled": false
   },
   "outputs": [
    {
     "data": {
      "text/plain": [
       "Timestamp('2019-12-31 00:00:00')"
      ]
     },
     "execution_count": 50,
     "metadata": {},
     "output_type": "execute_result"
    }
   ],
   "source": [
    "min(df_valuation.index)"
   ]
  },
  {
   "cell_type": "markdown",
   "id": "0168c46c",
   "metadata": {},
   "source": [
    "**Confirmamos que nuestros datos terminan en la fecha que le hemos indicado**"
   ]
  },
  {
   "cell_type": "code",
   "execution_count": 51,
   "id": "195f4771",
   "metadata": {
    "scrolled": true
   },
   "outputs": [
    {
     "data": {
      "text/plain": [
       "Timestamp('2023-10-13 00:00:00')"
      ]
     },
     "execution_count": 51,
     "metadata": {},
     "output_type": "execute_result"
    }
   ],
   "source": [
    "max(df_valuation.index)"
   ]
  },
  {
   "cell_type": "code",
   "execution_count": 52,
   "id": "8f75bdbd",
   "metadata": {
    "scrolled": true
   },
   "outputs": [
    {
     "data": {
      "text/plain": [
       "Open         0\n",
       "High         0\n",
       "Low          0\n",
       "Close        0\n",
       "Adj Close    0\n",
       "Volume       0\n",
       "dtype: int64"
      ]
     },
     "execution_count": 52,
     "metadata": {},
     "output_type": "execute_result"
    }
   ],
   "source": [
    "df_valuation.isna().sum()"
   ]
  },
  {
   "cell_type": "code",
   "execution_count": 54,
   "id": "93951461",
   "metadata": {
    "scrolled": true
   },
   "outputs": [
    {
     "data": {
      "text/plain": [
       "Text(0.5, 1.0, 'Boxplot de BAC')"
      ]
     },
     "execution_count": 54,
     "metadata": {},
     "output_type": "execute_result"
    },
    {
     "data": {
      "image/png": "[encoded data removed]",
      "text/plain": [
       "<Figure size 2000x1000 with 1 Axes>"
      ]
     },
     "metadata": {},
     "output_type": "display_data"
    }
   ],
   "source": [
    "plt.figure(figsize=(20,10))\n",
    "df_valuation.boxplot()\n",
    "plt.title('Boxplot de BAC')"
   ]
  },
  {
   "cell_type": "code",
   "execution_count": 55,
   "id": "0aa7de2c",
   "metadata": {
    "scrolled": true
   },
   "outputs": [
    {
     "data": {
      "text/plain": [
       "Index(['Open', 'High', 'Low', 'Close', 'Adj Close', 'Volume'], dtype='object')"
      ]
     },
     "execution_count": 55,
     "metadata": {},
     "output_type": "execute_result"
    }
   ],
   "source": [
    "df_valuation.columns"
   ]
  },
  {
   "cell_type": "code",
   "execution_count": 56,
   "id": "566c14f6",
   "metadata": {
    "scrolled": true
   },
   "outputs": [
    {
     "data": {
      "text/html": [
       "<div>\n",
       "<style scoped>\n",
       "    .dataframe tbody tr th:only-of-type {\n",
       "        vertical-align: middle;\n",
       "    }\n",
       "\n",
       "    .dataframe tbody tr th {\n",
       "        vertical-align: top;\n",
       "    }\n",
       "\n",
       "    .dataframe thead th {\n",
       "        text-align: right;\n",
       "    }\n",
       "</style>\n",
       "<table border=\"1\" class=\"dataframe\">\n",
       "  <thead>\n",
       "    <tr style=\"text-align: right;\">\n",
       "      <th></th>\n",
       "      <th>Open</th>\n",
       "      <th>High</th>\n",
       "      <th>Low</th>\n",
       "      <th>Close</th>\n",
       "      <th>Adj Close</th>\n",
       "    </tr>\n",
       "    <tr>\n",
       "      <th>Date</th>\n",
       "      <th></th>\n",
       "      <th></th>\n",
       "      <th></th>\n",
       "      <th></th>\n",
       "      <th></th>\n",
       "    </tr>\n",
       "  </thead>\n",
       "  <tbody>\n",
       "    <tr>\n",
       "      <th>2019-12-31</th>\n",
       "      <td>35.029999</td>\n",
       "      <td>35.259998</td>\n",
       "      <td>34.970001</td>\n",
       "      <td>35.220001</td>\n",
       "      <td>32.148045</td>\n",
       "    </tr>\n",
       "    <tr>\n",
       "      <th>2020-01-02</th>\n",
       "      <td>35.349998</td>\n",
       "      <td>35.660000</td>\n",
       "      <td>35.290001</td>\n",
       "      <td>35.639999</td>\n",
       "      <td>32.531406</td>\n",
       "    </tr>\n",
       "    <tr>\n",
       "      <th>2020-01-03</th>\n",
       "      <td>34.980000</td>\n",
       "      <td>35.150002</td>\n",
       "      <td>34.759998</td>\n",
       "      <td>34.900002</td>\n",
       "      <td>31.855951</td>\n",
       "    </tr>\n",
       "    <tr>\n",
       "      <th>2020-01-06</th>\n",
       "      <td>34.410000</td>\n",
       "      <td>34.900002</td>\n",
       "      <td>34.369999</td>\n",
       "      <td>34.849998</td>\n",
       "      <td>31.810307</td>\n",
       "    </tr>\n",
       "    <tr>\n",
       "      <th>2020-01-07</th>\n",
       "      <td>34.700001</td>\n",
       "      <td>34.919998</td>\n",
       "      <td>34.529999</td>\n",
       "      <td>34.619999</td>\n",
       "      <td>31.600378</td>\n",
       "    </tr>\n",
       "    <tr>\n",
       "      <th>...</th>\n",
       "      <td>...</td>\n",
       "      <td>...</td>\n",
       "      <td>...</td>\n",
       "      <td>...</td>\n",
       "      <td>...</td>\n",
       "    </tr>\n",
       "    <tr>\n",
       "      <th>2023-10-09</th>\n",
       "      <td>25.760000</td>\n",
       "      <td>26.360001</td>\n",
       "      <td>25.719999</td>\n",
       "      <td>26.309999</td>\n",
       "      <td>26.309999</td>\n",
       "    </tr>\n",
       "    <tr>\n",
       "      <th>2023-10-10</th>\n",
       "      <td>26.610001</td>\n",
       "      <td>27.299999</td>\n",
       "      <td>26.570000</td>\n",
       "      <td>27.010000</td>\n",
       "      <td>27.010000</td>\n",
       "    </tr>\n",
       "    <tr>\n",
       "      <th>2023-10-11</th>\n",
       "      <td>27.170000</td>\n",
       "      <td>27.440001</td>\n",
       "      <td>26.900000</td>\n",
       "      <td>27.020000</td>\n",
       "      <td>27.020000</td>\n",
       "    </tr>\n",
       "    <tr>\n",
       "      <th>2023-10-12</th>\n",
       "      <td>26.969999</td>\n",
       "      <td>27.080000</td>\n",
       "      <td>26.610001</td>\n",
       "      <td>26.900000</td>\n",
       "      <td>26.900000</td>\n",
       "    </tr>\n",
       "    <tr>\n",
       "      <th>2023-10-13</th>\n",
       "      <td>27.430000</td>\n",
       "      <td>27.719999</td>\n",
       "      <td>26.520000</td>\n",
       "      <td>26.760000</td>\n",
       "      <td>26.760000</td>\n",
       "    </tr>\n",
       "  </tbody>\n",
       "</table>\n",
       "<p>954 rows × 5 columns</p>\n",
       "</div>"
      ],
      "text/plain": [
       "                 Open       High        Low      Close  Adj Close\n",
       "Date                                                             \n",
       "2019-12-31  35.029999  35.259998  34.970001  35.220001  32.148045\n",
       "2020-01-02  35.349998  35.660000  35.290001  35.639999  32.531406\n",
       "2020-01-03  34.980000  35.150002  34.759998  34.900002  31.855951\n",
       "2020-01-06  34.410000  34.900002  34.369999  34.849998  31.810307\n",
       "2020-01-07  34.700001  34.919998  34.529999  34.619999  31.600378\n",
       "...               ...        ...        ...        ...        ...\n",
       "2023-10-09  25.760000  26.360001  25.719999  26.309999  26.309999\n",
       "2023-10-10  26.610001  27.299999  26.570000  27.010000  27.010000\n",
       "2023-10-11  27.170000  27.440001  26.900000  27.020000  27.020000\n",
       "2023-10-12  26.969999  27.080000  26.610001  26.900000  26.900000\n",
       "2023-10-13  27.430000  27.719999  26.520000  26.760000  26.760000\n",
       "\n",
       "[954 rows x 5 columns]"
      ]
     },
     "execution_count": 56,
     "metadata": {},
     "output_type": "execute_result"
    }
   ],
   "source": [
    "df_valuation[['Open', 'High', 'Low', 'Close', 'Adj Close']]"
   ]
  },
  {
   "cell_type": "code",
   "execution_count": 57,
   "id": "c7389cf3",
   "metadata": {
    "scrolled": true
   },
   "outputs": [
    {
     "data": {
      "text/plain": [
       "<Axes: >"
      ]
     },
     "execution_count": 57,
     "metadata": {},
     "output_type": "execute_result"
    },
    {
     "data": {
      "image/png": "[encoded data removed]",
      "text/plain": [
       "<Figure size 640x480 with 1 Axes>"
      ]
     },
     "metadata": {},
     "output_type": "display_data"
    }
   ],
   "source": [
    "df_valuation[['Open', 'High', 'Low', 'Close', 'Adj Close']].boxplot()"
   ]
  },
  {
   "cell_type": "code",
   "execution_count": 71,
   "id": "40445612",
   "metadata": {
    "scrolled": true
   },
   "outputs": [
    {
     "data": {
      "text/plain": [
       "Text(0.5, 1.0, 'Histograma de Precios de Cierre')"
      ]
     },
     "execution_count": 71,
     "metadata": {},
     "output_type": "execute_result"
    },
    {
     "data": {
      "image/png": "[encoded data removed]",
      "text/plain": [
       "<Figure size 2000x1500 with 1 Axes>"
      ]
     },
     "metadata": {},
     "output_type": "display_data"
    }
   ],
   "source": [
    "plt.figure(figsize=(20,15))\n",
    "plt.hist(df_valuation['Adj Close'], color='green', bins=20)\n",
    "plt.title('Histograma de Precios de Cierre')"
   ]
  },
  {
   "cell_type": "code",
   "execution_count": 68,
   "id": "3092e663",
   "metadata": {
    "scrolled": true
   },
   "outputs": [
    {
     "data": {
      "text/html": [
       "<div>\n",
       "<style scoped>\n",
       "    .dataframe tbody tr th:only-of-type {\n",
       "        vertical-align: middle;\n",
       "    }\n",
       "\n",
       "    .dataframe tbody tr th {\n",
       "        vertical-align: top;\n",
       "    }\n",
       "\n",
       "    .dataframe thead th {\n",
       "        text-align: right;\n",
       "    }\n",
       "</style>\n",
       "<table border=\"1\" class=\"dataframe\">\n",
       "  <thead>\n",
       "    <tr style=\"text-align: right;\">\n",
       "      <th></th>\n",
       "      <th>count</th>\n",
       "      <th>mean</th>\n",
       "      <th>std</th>\n",
       "      <th>min</th>\n",
       "      <th>25%</th>\n",
       "      <th>50%</th>\n",
       "      <th>75%</th>\n",
       "      <th>max</th>\n",
       "    </tr>\n",
       "  </thead>\n",
       "  <tbody>\n",
       "    <tr>\n",
       "      <th>Open</th>\n",
       "      <td>954.0</td>\n",
       "      <td>3.372303e+01</td>\n",
       "      <td>7.097878e+00</td>\n",
       "      <td>1.926000e+01</td>\n",
       "      <td>2.836500e+01</td>\n",
       "      <td>3.347500e+01</td>\n",
       "      <td>3.911750e+01</td>\n",
       "      <td>4.991000e+01</td>\n",
       "    </tr>\n",
       "    <tr>\n",
       "      <th>High</th>\n",
       "      <td>954.0</td>\n",
       "      <td>3.412980e+01</td>\n",
       "      <td>7.119190e+00</td>\n",
       "      <td>1.967000e+01</td>\n",
       "      <td>2.866250e+01</td>\n",
       "      <td>3.388000e+01</td>\n",
       "      <td>3.954250e+01</td>\n",
       "      <td>5.011000e+01</td>\n",
       "    </tr>\n",
       "    <tr>\n",
       "      <th>Low</th>\n",
       "      <td>954.0</td>\n",
       "      <td>3.329529e+01</td>\n",
       "      <td>7.063941e+00</td>\n",
       "      <td>1.795000e+01</td>\n",
       "      <td>2.796000e+01</td>\n",
       "      <td>3.301000e+01</td>\n",
       "      <td>3.853500e+01</td>\n",
       "      <td>4.903000e+01</td>\n",
       "    </tr>\n",
       "    <tr>\n",
       "      <th>Close</th>\n",
       "      <td>954.0</td>\n",
       "      <td>3.370642e+01</td>\n",
       "      <td>7.085440e+00</td>\n",
       "      <td>1.808000e+01</td>\n",
       "      <td>2.831750e+01</td>\n",
       "      <td>3.348500e+01</td>\n",
       "      <td>3.901250e+01</td>\n",
       "      <td>4.938000e+01</td>\n",
       "    </tr>\n",
       "    <tr>\n",
       "      <th>Adj Close</th>\n",
       "      <td>954.0</td>\n",
       "      <td>3.216455e+01</td>\n",
       "      <td>6.838895e+00</td>\n",
       "      <td>1.660833e+01</td>\n",
       "      <td>2.746164e+01</td>\n",
       "      <td>3.187925e+01</td>\n",
       "      <td>3.706985e+01</td>\n",
       "      <td>4.717276e+01</td>\n",
       "    </tr>\n",
       "    <tr>\n",
       "      <th>Volume</th>\n",
       "      <td>954.0</td>\n",
       "      <td>5.317370e+07</td>\n",
       "      <td>2.407330e+07</td>\n",
       "      <td>1.611850e+07</td>\n",
       "      <td>3.829862e+07</td>\n",
       "      <td>4.709110e+07</td>\n",
       "      <td>5.947392e+07</td>\n",
       "      <td>2.184033e+08</td>\n",
       "    </tr>\n",
       "  </tbody>\n",
       "</table>\n",
       "</div>"
      ],
      "text/plain": [
       "           count          mean           std           min           25%  \\\n",
       "Open       954.0  3.372303e+01  7.097878e+00  1.926000e+01  2.836500e+01   \n",
       "High       954.0  3.412980e+01  7.119190e+00  1.967000e+01  2.866250e+01   \n",
       "Low        954.0  3.329529e+01  7.063941e+00  1.795000e+01  2.796000e+01   \n",
       "Close      954.0  3.370642e+01  7.085440e+00  1.808000e+01  2.831750e+01   \n",
       "Adj Close  954.0  3.216455e+01  6.838895e+00  1.660833e+01  2.746164e+01   \n",
       "Volume     954.0  5.317370e+07  2.407330e+07  1.611850e+07  3.829862e+07   \n",
       "\n",
       "                    50%           75%           max  \n",
       "Open       3.347500e+01  3.911750e+01  4.991000e+01  \n",
       "High       3.388000e+01  3.954250e+01  5.011000e+01  \n",
       "Low        3.301000e+01  3.853500e+01  4.903000e+01  \n",
       "Close      3.348500e+01  3.901250e+01  4.938000e+01  \n",
       "Adj Close  3.187925e+01  3.706985e+01  4.717276e+01  \n",
       "Volume     4.709110e+07  5.947392e+07  2.184033e+08  "
      ]
     },
     "execution_count": 68,
     "metadata": {},
     "output_type": "execute_result"
    }
   ],
   "source": [
    "df_valuation.describe().T"
   ]
  },
  {
   "cell_type": "code",
   "execution_count": null,
   "id": "fc6e0a70",
   "metadata": {},
   "outputs": [],
   "source": []
  }
 ],
 "metadata": {
  "kernelspec": {
   "display_name": "Python 3 (ipykernel)",
   "language": "python",
   "name": "python3"
  },
  "language_info": {
   "codemirror_mode": {
    "name": "ipython",
    "version": 3
   },
   "file_extension": ".py",
   "mimetype": "text/x-python",
   "name": "python",
   "nbconvert_exporter": "python",
   "pygments_lexer": "ipython3",
   "version": "3.11.3"
  }
 },
 "nbformat": 4,
 "nbformat_minor": 5
}
